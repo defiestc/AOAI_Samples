{
  "cells": [
    {
      "attachments": {},
      "cell_type": "markdown",
      "metadata": {},
      "source": [
        "# 1. Connect to Azure Machine Learning Registry\n",
        "\n",
        "The [workspace](https://docs.microsoft.com/en-us/azure/machine-learning/concept-workspace) is the top-level resource for Azure Machine Learning, providing a centralized place to work with all the artifacts you create when you use Azure Machine Learning. In this section we will connect to the workspace in which the job will be run.\n",
        "\n",
        "## 1.1 Import the required libraries"
      ]
    },
    {
      "cell_type": "code",
      "execution_count": null,
      "metadata": {
        "jupyter": {
          "outputs_hidden": false,
          "source_hidden": false
        },
        "nteract": {
          "transient": {
            "deleting": false
          }
        }
      },
      "outputs": [],
      "source": [
        "!pip install -U azure-ai-ml"
      ]
    },
    {
      "cell_type": "code",
      "execution_count": null,
      "metadata": {
        "gather": {
          "logged": 1704618163135
        }
      },
      "outputs": [],
      "source": [
        "# Import required libraries\n",
        "from azure.identity import DefaultAzureCredential, InteractiveBrowserCredential\n",
        "\n",
        "from azure.ai.ml import MLClient, Input, load_component\n",
        "from azure.ai.ml.constants import AssetTypes\n",
        "from azure.ai.ml.dsl import pipeline"
      ]
    },
    {
      "attachments": {},
      "cell_type": "markdown",
      "metadata": {},
      "source": [
        "## 1.2 Configure credential\n",
        "\n",
        "We are using `DefaultAzureCredential` to get access to workspace. \n",
        "`DefaultAzureCredential` should be capable of handling most Azure SDK authentication scenarios. \n",
        "\n",
        "Reference for more available credentials if it does not work for you: [configure credential example](../../configuration.ipynb), [azure-identity reference doc](https://docs.microsoft.com/en-us/python/api/azure-identity/azure.identity?view=azure-python)."
      ]
    },
    {
      "cell_type": "code",
      "execution_count": null,
      "metadata": {
        "gather": {
          "logged": 1704618165770
        }
      },
      "outputs": [],
      "source": [
        "try:\n",
        "    credential = DefaultAzureCredential()\n",
        "    # Check if given credential can get token successfully.\n",
        "    credential.get_token(\"https://management.azure.com/.default\")\n",
        "except Exception as ex:\n",
        "    # Fall back to InteractiveBrowserCredential in case DefaultAzureCredential not work\n",
        "    credential = InteractiveBrowserCredential()"
      ]
    },
    {
      "attachments": {},
      "cell_type": "markdown",
      "metadata": {},
      "source": [
        "## 1.3 Get a handle to the registry\n",
        "\n",
        "We need to initialize a MlClient pointed to the registry where the OpenAI components are available. [Check this api documentation for more details](https://learn.microsoft.com/en-us/python/api/azure-ai-ml/azure.ai.ml.mlclient?view=azure-python)"
      ]
    },
    {
      "cell_type": "code",
      "execution_count": null,
      "metadata": {
        "gather": {
          "logged": 1704618169328
        }
      },
      "outputs": [],
      "source": [
        "# Get a handle to registry\n",
        "ml_client = MLClient(\n",
        "    credential=credential, registry_name=\"azureml\", registry_location=\"swedencentral\"\n",
        ")"
      ]
    },
    {
      "attachments": {},
      "cell_type": "markdown",
      "metadata": {},
      "source": [
        "# 2. Define and create components into workspace\n",
        "## 2.1 Load components from registry\n",
        "You need to modify the required params in the yaml files like version, compute uri, etc according to your requirements"
      ]
    },
    {
      "cell_type": "code",
      "execution_count": null,
      "metadata": {
        "gather": {
          "logged": 1704618172540
        }
      },
      "outputs": [],
      "source": [
        "finetune_pipeline = load_component(\n",
        "    client=ml_client, name=\"openai_completions_finetune_pipeline\", version=\"0.1.2\"\n",
        ")"
      ]
    },
    {
      "attachments": {},
      "cell_type": "markdown",
      "metadata": {},
      "source": [
        "## 2.2 Inspect loaded components"
      ]
    },
    {
      "cell_type": "code",
      "execution_count": null,
      "metadata": {
        "gather": {
          "logged": 1704618176179
        }
      },
      "outputs": [],
      "source": [
        "print(\"Pipeline component loaded successfully. Component spec:\")\n",
        "print(finetune_pipeline)"
      ]
    },
    {
      "attachments": {},
      "cell_type": "markdown",
      "metadata": {},
      "source": [
        "# 3. Sample pipeline job\n",
        "## 3.1 Build pipeline\n",
        "\n",
        "There are two types of tasks :\n",
        "\n",
        "1. completion : input dataset should have rows with \"prompt\" and \"completion\" keys\n",
        "2. chat : each row in the input dataset is a conversation represented as a list of json objects where each json object has \"role\" as one of the two values - user, assistant and \"content\" with the utterance"
      ]
    },
    {
      "cell_type": "code",
      "execution_count": null,
      "metadata": {
        "gather": {
          "logged": 1704618179878
        }
      },
      "outputs": [],
      "source": [
        "TASK_TYPE = \"chat\"  # Change this to completion for completion dataset\n",
        "\n",
        "\n",
        "# Construct pipeline\n",
        "@pipeline()\n",
        "def pipeline_with_registered_component(\n",
        "    train_dataset,\n",
        "    validation_dataset,\n",
        "    training_max_epochs=20,\n",
        "    model=\"gpt-35-turbo\",\n",
        "    registered_model_name=\"sdk-test-turbo-chat-1\",\n",
        "    learning_rate_multiplier=1,\n",
        "    batch_size=-1,\n",
        "    task_type=\"chat\",\n",
        "):\n",
        "    openai_completions_finetune_component_results = finetune_pipeline(\n",
        "        train_dataset=train_dataset,\n",
        "        validation_dataset=validation_dataset,\n",
        "        n_epochs=training_max_epochs,\n",
        "        model=model,\n",
        "        task_type=task_type,\n",
        "        registered_model_name=registered_model_name,\n",
        "        learning_rate_multiplier=learning_rate_multiplier,\n",
        "        batch_size=batch_size,\n",
        "    )\n",
        "\n",
        "    return openai_completions_finetune_component_results\n",
        "\n",
        "\n",
        "pipeline_job = pipeline_with_registered_component(\n",
        "    train_dataset=Input(type=AssetTypes.URI_FOLDER, path=\"./data/\"),\n",
        "    validation_dataset=Input(type=AssetTypes.URI_FOLDER, path=\"./data/\"),\n",
        "    training_max_epochs=1,\n",
        "    model=\"gpt-35-turbo\",  # Select any model from [\"babbage-002\", \"davinci-002\", \"gpt-35-turbo\"]\n",
        "    task_type=TASK_TYPE,\n",
        "    registered_model_name=\"sdk-test-turbo-chat-1\",\n",
        "    learning_rate_multiplier=1,\n",
        "    batch_size=-1,\n",
        ")\n",
        "\n",
        "# set pipeline level compute\n",
        "pipeline_job.settings.default_compute = \"serverless\""
      ]
    },
    {
      "attachments": {},
      "cell_type": "markdown",
      "metadata": {},
      "source": [
        "## 3.2 Configure workspace details and get a handle to the workspace\n",
        "\n",
        "To connect to a workspace, we need identifier parameters - a subscription, resource group and workspace name. We will use these details in the `MLClient` from `azure.ai.ml` to get a handle to the required Azure Machine Learning workspace. We use the default [default azure authentication](https://docs.microsoft.com/en-us/python/api/azure-identity/azure.identity.defaultazurecredential?view=azure-python) for this tutorial. Check the [configuration notebook](https://github.com/Azure/azureml-examples/blob/6142c51451561447befa665e8dd6fb3ff80bdb62/sdk/python/jobs/configuration.ipynb) for more details on how to configure credentials and connect to a workspace."
      ]
    },
    {
      "cell_type": "code",
      "execution_count": null,
      "metadata": {
        "gather": {
          "logged": 1704618185114
        }
      },
      "outputs": [],
      "source": [
        "# Get a handle to workspace\n",
        "ml_client = None\n",
        "try:\n",
        "    ml_client = MLClient.from_config(credential)\n",
        "except Exception as ex:\n",
        "    print(ex)\n",
        "    # Enter details of your AML workspace\n",
        "    subscription_id = \"\"\n",
        "    resource_group = \"\"\n",
        "    workspace_name = \"\"\n",
        "\n",
        "    ml_client = MLClient(credential, subscription_id, resource_group, workspace_name)"
      ]
    },
    {
      "attachments": {},
      "cell_type": "markdown",
      "metadata": {},
      "source": [
        "## 3.3 Submit pipeline job"
      ]
    },
    {
      "cell_type": "code",
      "execution_count": null,
      "metadata": {
        "gather": {
          "logged": 1704618198418
        }
      },
      "outputs": [],
      "source": [
        "# Submit pipeline job to workspace\n",
        "pipeline_job = ml_client.jobs.create_or_update(\n",
        "    pipeline_job, experiment_name=\"chat_pipeline_test\"\n",
        ")\n",
        "pipeline_job"
      ]
    },
    {
      "cell_type": "code",
      "execution_count": null,
      "metadata": {
        "gather": {
          "logged": 1704620509881
        }
      },
      "outputs": [],
      "source": [
        "# Wait until the job completes\n",
        "ml_client.jobs.stream(pipeline_job.name)"
      ]
    },
    {
      "cell_type": "code",
      "execution_count": null,
      "metadata": {
        "gather": {
          "logged": 1704628699117
        },
        "jupyter": {
          "outputs_hidden": false,
          "source_hidden": false
        },
        "nteract": {
          "transient": {
            "deleting": false
          }
        }
      },
      "outputs": [],
      "source": [
        "models = ml_client.models.list(name = 'sdk-test-turbo-chat-1')\n",
        "for model in models:\n",
        "    print(model.name)\n",
        "    print(model.version)"
      ]
    },
    {
      "cell_type": "code",
      "execution_count": null,
      "metadata": {
        "gather": {
          "logged": 1704622327544
        },
        "jupyter": {
          "outputs_hidden": false,
          "source_hidden": false
        },
        "nteract": {
          "transient": {
            "deleting": false
          }
        }
      },
      "outputs": [],
      "source": [
        "import requests\n",
        "import json\n",
        "import subprocess\n",
        "\n",
        "# 1. Add your Azure OpenAI account details\n",
        "subscription = \"\"\n",
        "resource_group = \"\"\n",
        "resource_name = \"\" #openai resource name\n",
        "model_deployment_name = \"\"\n",
        "\n",
        "# 2. Add the AzureML registered model name, registered model version, and the AzureML (AML) workspace path for your fine-tuned model.\n",
        "# Your registered models data can be found in the `Models` tab of your AzureML workspace.\n",
        "registered_model_name = \"sdk-test-turbo-chat-1\"\n",
        "registered_model_version = \"1\"\n",
        "workspace_path = f\"/subscriptions/{subscription}/resourcegroups/{resource_group}/providers/Microsoft.MachineLearningServices/workspaces/{workspace_name}\""
      ]
    },
    {
      "cell_type": "code",
      "execution_count": null,
      "metadata": {
        "gather": {
          "logged": 1704622328856
        },
        "jupyter": {
          "outputs_hidden": false,
          "source_hidden": false
        },
        "nteract": {
          "transient": {
            "deleting": false
          }
        }
      },
      "outputs": [],
      "source": [
        "from azure.identity import DefaultAzureCredential, InteractiveBrowserCredential\n",
        "\n",
        "try:\n",
        "    credential = DefaultAzureCredential()\n",
        "    # Check if given credential can get token successfully.\n",
        "    access_token = credential.get_token(\"https://management.azure.com/.default\")\n",
        "    token = access_token.token\n",
        "except Exception as ex:\n",
        "    # Fall back to InteractiveBrowserCredential in case DefaultAzureCredential not work\n",
        "    # This will open a browser page for\n",
        "    credential = InteractiveBrowserCredential()"
      ]
    },
    {
      "cell_type": "code",
      "execution_count": null,
      "metadata": {
        "gather": {
          "logged": 1704622332104
        },
        "jupyter": {
          "outputs_hidden": false,
          "source_hidden": false
        },
        "nteract": {
          "transient": {
            "deleting": false
          }
        }
      },
      "outputs": [],
      "source": [
        "deploy_params = {\"api-version\": \"2023-05-01\"}\n",
        "deploy_headers = {\n",
        "    \"Authorization\": f\"Bearer {token}\",\n",
        "    \"Content-Type\": \"application/json\",\n",
        "}\n",
        "\n",
        "# 4. Set model deployment configuration. Here capacity refers to support for `1K Tokens Per Minute (TPM)` for your deployment.\n",
        "deploy_data = {\n",
        "    \"sku\": {\"name\": \"Standard\", \"capacity\": 1},\n",
        "    \"properties\": {\n",
        "        \"model\": {\n",
        "            \"format\": \"OpenAI\",\n",
        "            \"name\": f\"{registered_model_name}\",\n",
        "            \"version\": f\"{registered_model_version}\",\n",
        "            \"source\": f\"{workspace_path}\",\n",
        "        }\n",
        "    },\n",
        "}\n",
        "\n",
        "deploy_data = json.dumps(deploy_data)"
      ]
    },
    {
      "cell_type": "code",
      "execution_count": null,
      "metadata": {
        "gather": {
          "logged": 1704622340468
        },
        "jupyter": {
          "outputs_hidden": false,
          "source_hidden": false
        },
        "nteract": {
          "transient": {
            "deleting": false
          }
        }
      },
      "outputs": [],
      "source": [
        "# 5. Send PUT request to Azure cognitive services to create model deployment\n",
        "request_url = f\"https://management.azure.com/subscriptions/{subscription}/resourceGroups/{resource_group}/providers/Microsoft.CognitiveServices/accounts/{resource_name}/deployments/{model_deployment_name}\"\n",
        "\n",
        "r = requests.put(\n",
        "    request_url, \n",
        "    params=deploy_params, \n",
        "    headers=deploy_headers, \n",
        "    data=deploy_data\n",
        ")\n",
        "\n",
        "print(r.json())\n",
        "\n",
        "# 6. View Your model deployment status in Azure OpenAI Studio portal\n",
        "# Visit [https://oai.azure.com/portal/](https://oai.azure.com/portal/) to view your model deployments.\n",
        "\n",
        "# 7. After your deployment succeeds, use Azure OpenAI chat playground to test your Deployment\n"
      ]
    },
    {
      "cell_type": "code",
      "execution_count": null,
      "metadata": {
        "jupyter": {
          "outputs_hidden": false,
          "source_hidden": false
        },
        "nteract": {
          "transient": {
            "deleting": false
          }
        }
      },
      "outputs": [],
      "source": [
        "# 6. Send DELETE request to Azure cognitive services to delete model deployment\n",
        "request_url = f\"https://management.azure.com//subscriptions/{subscription}/resourceGroups/{resource_group}/providers/Microsoft.CognitiveServices/accounts/{resource_name}/deployments/{model_deployment_name}\"\n",
        "r = requests.delete(\n",
        "    request_url, \n",
        "    params=deploy_params, \n",
        "    headers=deploy_headers\n",
        ")\n",
        "print(r.json())"
      ]
    }
  ],
  "metadata": {
    "kernel_info": {
      "name": "python310-sdkv2"
    },
    "kernelspec": {
      "display_name": "Python 3.10 - SDK v2",
      "language": "python",
      "name": "python310-sdkv2"
    },
    "language_info": {
      "codemirror_mode": {
        "name": "ipython",
        "version": 3
      },
      "file_extension": ".py",
      "mimetype": "text/x-python",
      "name": "python",
      "nbconvert_exporter": "python",
      "pygments_lexer": "ipython3",
      "version": "3.10.11"
    },
    "microsoft": {
      "host": {
        "AzureML": {
          "notebookHasBeenCompleted": true
        }
      },
      "ms_spell_check": {
        "ms_spell_check_language": "en"
      }
    },
    "nteract": {
      "version": "nteract-front-end@1.0.0"
    },
    "orig_nbformat": 4
  },
  "nbformat": 4,
  "nbformat_minor": 2
}

